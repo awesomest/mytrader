{
 "cells": [
  {
   "cell_type": "code",
   "execution_count": 3,
   "metadata": {
    "scrolled": true
   },
   "outputs": [
    {
     "name": "stdout",
     "output_type": "stream",
     "text": [
      "start: 2020/04/28 06:04:54\n"
     ]
    },
    {
     "data": {
      "image/png": "[encoded data removed]",
      "text/plain": [
       "<Figure size 432x288 with 2 Axes>"
      ]
     },
     "metadata": {
      "needs_background": "light"
     },
     "output_type": "display_data"
    },
    {
     "name": "stdout",
     "output_type": "stream",
     "text": [
      "end: 2020/04/28 06:05:06\n"
     ]
    }
   ],
   "source": [
    "import pandas as pd\n",
    "from datetime import datetime as dt\n",
    "import matplotlib.pyplot as plt\n",
    "from mylib import bitcoin\n",
    "from mylib import simulator\n",
    "\n",
    "def plot(x, y, y_pred, y_asset):\n",
    "    fig = plt.figure()\n",
    "    ax1 = fig.add_subplot(2, 1, 1)\n",
    "    ax2 = fig.add_subplot(2, 1, 2)\n",
    "    ax1.plot(list(range(len(x))), y, marker=\"o\")\n",
    "    ax1.plot(list(range(len(x))), y_pred, marker=\"v\")\n",
    "    ax2.plot(list(range(len(x))), y_asset, marker=\"o\")\n",
    "    plt.show()\n",
    "\n",
    "def main():\n",
    "    print('start: ' + str(dt.now().strftime(\"%Y/%m/%d %H:%M:%S\")))\n",
    "    \n",
    "    csv = pd.read_csv(\"datasets/train_v1.csv\")\n",
    "    b = bitcoin.BitcoinRegression(csv)\n",
    "    b.load_model('models/model_v1.pickle')\n",
    "    b.set_train_test_dataset(0.9, 0.1)\n",
    "    s = simulator.BitcoinSimulator(200000)\n",
    "\n",
    "    x = b.data_test\n",
    "    y = b.label_test\n",
    "    y_pred = b.model.predict(x)\n",
    "    y_asset = s.simulate(b.data_test, b.model)\n",
    "    plot(x, y, y_pred, y_asset)\n",
    "    \n",
    "    print('end: ' + str(dt.now().strftime(\"%Y/%m/%d %H:%M:%S\")))\n",
    "\n",
    "if __name__ == \"__main__\":\n",
    "    main()"
   ]
  },
  {
   "cell_type": "code",
   "execution_count": null,
   "metadata": {},
   "outputs": [],
   "source": []
  }
 ],
 "metadata": {
  "kernelspec": {
   "display_name": "Python 3",
   "language": "python",
   "name": "python3"
  },
  "language_info": {
   "codemirror_mode": {
    "name": "ipython",
    "version": 3
   },
   "file_extension": ".py",
   "mimetype": "text/x-python",
   "name": "python",
   "nbconvert_exporter": "python",
   "pygments_lexer": "ipython3",
   "version": "3.7.4"
  }
 },
 "nbformat": 4,
 "nbformat_minor": 2
}

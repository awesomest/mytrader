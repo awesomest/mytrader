{
 "cells": [
  {
   "cell_type": "code",
   "execution_count": null,
   "metadata": {
    "scrolled": false
   },
   "outputs": [
    {
     "name": "stdout",
     "output_type": "stream",
     "text": [
      "start: 2020/05/10 10:09:11\n"
     ]
    }
   ],
   "source": [
    "import pandas as pd\n",
    "import matplotlib.pyplot as plt\n",
    "from datetime import datetime as dt\n",
    "from mylib import dataset\n",
    "%matplotlib inline\n",
    "\n",
    "def plot(data):\n",
    "    x = data[:15000]\n",
    "    y_close = list(x[\"close\"])\n",
    "    # y_result = list(x[\"result\"])\n",
    "    y_result = list(x[\"extreme60\"])\n",
    "    # y_action = [i > 0 for i in y_result]\n",
    "    y_action = [(1 if i > 1 else -1) if i > 1.005 or i < 0.995 else 0 for i in y_result]\n",
    "\n",
    "    _, (ax1, ax2, ax3) = plt.subplots(3, 1, figsize=(10, 10))\n",
    "    ax1.plot(list(range(len(x))), y_close)\n",
    "    ax2.plot(list(range(len(x))), y_result)\n",
    "    ax3.scatter(list(range(len(x))), y_action, color=\"orange\")\n",
    "    plt.show()\n",
    "\n",
    "def main():\n",
    "    print(\"start: \" + str(dt.now().strftime(\"%Y/%m/%d %H:%M:%S\")))\n",
    "\n",
    "    \n",
    "    csv = pd.read_csv(\"datasets/candlestick2.csv\")\n",
    "    # csv = pd.read_csv(\"datasets/train_v7.csv\")\n",
    "    # csv = csv[:15000]\n",
    "    b = dataset.BitcoinDataset()\n",
    "    b.set_dataset(csv)\n",
    "    # b.set_dataset_for_test(csv)\n",
    "    b.data.to_csv(\"datasets/train_v9.csv\", index=False)\n",
    "    print(\"The dataset is saved\")\n",
    "    plot(b.data)\n",
    "    \n",
    "    \n",
    "    print(\"end: \" + str(dt.now().strftime(\"%Y/%m/%d %H:%M:%S\")))\n",
    "\n",
    "if __name__ == \"__main__\":\n",
    "    main()"
   ]
  },
  {
   "cell_type": "code",
   "execution_count": null,
   "metadata": {
    "scrolled": true
   },
   "outputs": [],
   "source": []
  },
  {
   "cell_type": "code",
   "execution_count": null,
   "metadata": {},
   "outputs": [],
   "source": []
  }
 ],
 "metadata": {
  "kernelspec": {
   "display_name": "Python 3",
   "language": "python",
   "name": "python3"
  },
  "language_info": {
   "codemirror_mode": {
    "name": "ipython",
    "version": 3
   },
   "file_extension": ".py",
   "mimetype": "text/x-python",
   "name": "python",
   "nbconvert_exporter": "python",
   "pygments_lexer": "ipython3",
   "version": "3.7.4"
  }
 },
 "nbformat": 4,
 "nbformat_minor": 2
}

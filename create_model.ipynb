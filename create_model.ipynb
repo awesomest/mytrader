{
 "cells": [
  {
   "cell_type": "code",
   "execution_count": 5,
   "metadata": {},
   "outputs": [
    {
     "name": "stdout",
     "output_type": "stream",
     "text": [
      "start: 2020/05/04 19:07:49\n",
      "平均: -0.000947\n"
     ]
    },
    {
     "data": {
      "image/png": "[encoded data removed]",
      "text/plain": [
       "<Figure size 432x288 with 4 Axes>"
      ]
     },
     "metadata": {
      "needs_background": "light"
     },
     "output_type": "display_data"
    },
    {
     "name": "stdout",
     "output_type": "stream",
     "text": [
      "end: 2020/05/04 19:08:21\n"
     ]
    }
   ],
   "source": [
    "import pandas as pd\n",
    "import matplotlib.pyplot as plt\n",
    "from datetime import datetime as dt\n",
    "from mylib import bitcoin\n",
    "\n",
    "def plot(b):\n",
    "    x = b.data_test[-3500:]\n",
    "    #x = list(range(len(b.data_test[-3500:])))\n",
    "    y_result = list(b.label_test[-3500:])\n",
    "    y_predict = list(b.model.predict(x))\n",
    "    y_result_trend = [i > 0 for i in y_result]\n",
    "    y_predict_trend = [i > 0 for i in y_predict]\n",
    "\n",
    "    fig = plt.figure()\n",
    "    ax1 = fig.add_subplot(4, 2, 1)\n",
    "    ax2 = fig.add_subplot(4, 2, 3)\n",
    "    ax3 = fig.add_subplot(4, 2, 2)\n",
    "    ax4 = fig.add_subplot(4, 2, 4)\n",
    "    ax1.plot(list(range(len(x))), y_result, marker=\"v\")\n",
    "    ax2.plot(list(range(len(x))), y_predict, marker=\"o\")\n",
    "    ax3.scatter(list(range(len(x))), y_result_trend, marker=\"o\", color='orange')\n",
    "    ax4.scatter(list(range(len(x))), y_predict_trend, marker=\"o\", color='orange')\n",
    "    plt.show()\n",
    "\n",
    "def main():\n",
    "    print('start: ' + str(dt.now().strftime(\"%Y/%m/%d %H:%M:%S\")))\n",
    "\n",
    "\n",
    "    csv = pd.read_csv(\"datasets/train_v3.csv\")\n",
    "    b = bitcoin.BitcoinRegression()\n",
    "    b.set_dataset(csv)\n",
    "    print(\"平均: %f\" % (b.calc_avg_pred()))\n",
    "    b.set_train_test_dataset(0.8, 0.2)\n",
    "    b.train()\n",
    "    plot(b)\n",
    "    b.save_model('models/model_v3.pickle')\n",
    "    \n",
    "\n",
    "    print('end: ' + str(dt.now().strftime(\"%Y/%m/%d %H:%M:%S\")))\n",
    "\n",
    "if __name__ == \"__main__\":\n",
    "    main()"
   ]
  },
  {
   "cell_type": "code",
   "execution_count": null,
   "metadata": {},
   "outputs": [],
   "source": [
    "import pandas as pd\n",
    "import matplotlib.pyplot as plt\n",
    "\n",
    "x = list(range(len(b.data_test[-3500:])))\n",
    "y_result = list(b.label_test[-3500:])\n",
    "y_predict = list(b.model.predict(x))\n",
    "y_trend = [i > 0 for i in y_result]\n",
    "\n",
    "#plt.plot(list(range(len(x))), y, marker=\"o\")\n",
    "#plt.plot(list(range(len(x))), y_pred, marker=\"v\")\n",
    "#plt.show()\n",
    "\n",
    "fig = plt.figure()\n",
    "ax1 = fig.add_subplot(3, 1, 1)\n",
    "ax2 = fig.add_subplot(3, 1, 2)\n",
    "ax3 = fig.add_subplot(3, 1, 3)\n",
    "ax1.plot(x, y_result, marker=\"v\")\n",
    "ax2.plot(x, y_predict, marker=\"o\")\n",
    "ax3.scatter(x, y_trend, marker=\"o\", color='orange')\n",
    "plt.show()"
   ]
  },
  {
   "cell_type": "code",
   "execution_count": null,
   "metadata": {},
   "outputs": [],
   "source": []
  },
  {
   "cell_type": "code",
   "execution_count": null,
   "metadata": {},
   "outputs": [],
   "source": []
  }
 ],
 "metadata": {
  "kernelspec": {
   "display_name": "Python 3",
   "language": "python",
   "name": "python3"
  },
  "language_info": {
   "codemirror_mode": {
    "name": "ipython",
    "version": 3
   },
   "file_extension": ".py",
   "mimetype": "text/x-python",
   "name": "python",
   "nbconvert_exporter": "python",
   "pygments_lexer": "ipython3",
   "version": "3.7.4"
  }
 },
 "nbformat": 4,
 "nbformat_minor": 2
}
